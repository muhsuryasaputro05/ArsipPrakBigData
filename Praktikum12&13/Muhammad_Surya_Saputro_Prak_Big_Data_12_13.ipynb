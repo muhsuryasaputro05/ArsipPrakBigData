{
  "cells": [
    {
      "cell_type": "markdown",
      "id": "9e95332f",
      "metadata": {
        "id": "9e95332f"
      },
      "source": [
        "# Pertemuan 12 and 13: Data Cleaning, Preparation, and Visualization"
      ]
    },
    {
      "cell_type": "markdown",
      "id": "423279e7",
      "metadata": {
        "id": "423279e7"
      },
      "source": [
        "## Pertemuan 12: Data Cleaning and Preparation using Pandas"
      ]
    },
    {
      "cell_type": "code",
      "execution_count": null,
      "id": "10266acc",
      "metadata": {
        "colab": {
          "base_uri": "https://localhost:8080/"
        },
        "id": "10266acc",
        "outputId": "150a5671-b8be-47de-ce9e-086a6bad1ee7"
      },
      "outputs": [
        {
          "output_type": "stream",
          "name": "stdout",
          "text": [
            "After cleaning:\n",
            "       Name    Age   Salary\n",
            "0    Alice  24.00  48000.0\n",
            "1      Bob  30.00  57000.0\n",
            "2  Charlie  27.75  57000.0\n",
            "3    David  22.00  57000.0\n"
          ]
        },
        {
          "output_type": "stream",
          "name": "stderr",
          "text": [
            "<ipython-input-4-7d141c975721>:13: FutureWarning: A value is trying to be set on a copy of a DataFrame or Series through chained assignment using an inplace method.\n",
            "The behavior will change in pandas 3.0. This inplace method will never work because the intermediate object on which we are setting values always behaves as a copy.\n",
            "\n",
            "For example, when doing 'df[col].method(value, inplace=True)', try using 'df.method({col: value}, inplace=True)' or df[col] = df[col].method(value) instead, to perform the operation inplace on the original object.\n",
            "\n",
            "\n",
            "  df['Age'].fillna(df['Age'].mean(), inplace=True)\n",
            "<ipython-input-4-7d141c975721>:14: FutureWarning: A value is trying to be set on a copy of a DataFrame or Series through chained assignment using an inplace method.\n",
            "The behavior will change in pandas 3.0. This inplace method will never work because the intermediate object on which we are setting values always behaves as a copy.\n",
            "\n",
            "For example, when doing 'df[col].method(value, inplace=True)', try using 'df.method({col: value}, inplace=True)' or df[col] = df[col].method(value) instead, to perform the operation inplace on the original object.\n",
            "\n",
            "\n",
            "  df['Salary'].fillna(df['Salary'].median(), inplace=True)\n"
          ]
        }
      ],
      "source": [
        "# Exercise 1: Identifying and Handling Missing Data\n",
        "import pandas as pd\n",
        "\n",
        "# Sample dataset with missing values\n",
        "data = {\n",
        "    'Name': ['Alice', 'Bob', 'Charlie', 'David', None],\n",
        "    'Age': [24, 30, None, 22, 35],\n",
        "    'Salary': [48000, None, 57000, None, 60000]\n",
        "}\n",
        "df = pd.DataFrame(data)\n",
        "\n",
        "# Filling missing values and dropping rows\n",
        "df['Age'].fillna(df['Age'].mean(), inplace=True)\n",
        "df['Salary'].fillna(df['Salary'].median(), inplace=True)\n",
        "df.dropna(subset=['Name'], inplace=True)\n",
        "print('After cleaning:\\n', df)\n"
      ]
    },
    {
      "cell_type": "code",
      "execution_count": null,
      "id": "fcf68022",
      "metadata": {
        "colab": {
          "base_uri": "https://localhost:8080/"
        },
        "id": "fcf68022",
        "outputId": "9887beda-1ab5-4da9-a722-c782957eed74"
      },
      "outputs": [
        {
          "output_type": "stream",
          "name": "stdout",
          "text": [
            "Standardized Data:\n",
            "    Product     Category\n",
            "0   Laptop  Electronics\n",
            "1   Laptop  Electronics\n",
            "2  Desktop  Electronics\n",
            "3   Tablet      Gadgets\n",
            "4   Tablet      Gadgets\n"
          ]
        }
      ],
      "source": [
        "# Exercise 2: Standardizing Categorical Data\n",
        "# Sample dataset with inconsistent categorical values\n",
        "data = {\n",
        "    'Product': ['Laptop', 'Laptop', 'Desktop', 'Tablet', 'Tablet'],\n",
        "    'Category': ['Electronics', 'electronics', 'Electronics', 'Gadgets', 'gadgets']\n",
        "}\n",
        "df = pd.DataFrame(data)\n",
        "\n",
        "# Standardize category values\n",
        "df['Category'] = df['Category'].str.capitalize()\n",
        "print('Standardized Data:\\n', df)\n"
      ]
    },
    {
      "cell_type": "markdown",
      "id": "b237c9ec",
      "metadata": {
        "id": "b237c9ec"
      },
      "source": [
        "### Practice Tasks\n",
        "- Load a dataset of your choice and identify missing values.\n"
      ]
    },
    {
      "cell_type": "code",
      "source": [
        "import pandas as pd\n",
        "\n",
        "# Dataset baru dengan nilai yang hilang\n",
        "data = {\n",
        "    'Name': ['John', 'Sara', 'Jake', 'Lily', None],\n",
        "    'Age': [28, None, 34, 25, 40],\n",
        "    'Salary': [50000, 62000, None, None, 75000],\n",
        "    'Department': ['HR', 'Finance', 'IT', 'Marketing', 'finance']\n",
        "}\n",
        "df = pd.DataFrame(data)\n",
        "\n",
        "# Menampilkan data sebelum penanganan nilai hilang\n",
        "print(\"Data Sebelum Penanganan Nilai Hilang:\")\n",
        "print(df)\n",
        "print(\"\\nJumlah Nilai Hilang per Kolom:\")\n",
        "print(df.isnull().sum())\n",
        "\n",
        "# Mengisi nilai yang hilang\n",
        "df['Age'].fillna(df['Age'].mean(), inplace=True)  # Mengisi nilai hilang dengan rata-rata usia\n",
        "df['Salary'].fillna(df['Salary'].median(), inplace=True)  # Mengisi nilai hilang dengan median gaji\n",
        "df.dropna(subset=['Name'], inplace=True)  # Menghapus baris dengan kolom 'Name' yang hilang\n",
        "\n",
        "print('\\nData Setelah Penanganan Nilai Hilang:')\n",
        "print(df)\n"
      ],
      "metadata": {
        "colab": {
          "base_uri": "https://localhost:8080/"
        },
        "id": "4J89Jq5t_8Xe",
        "outputId": "8b870547-0d56-4c00-c873-62a6bef91822"
      },
      "id": "4J89Jq5t_8Xe",
      "execution_count": null,
      "outputs": [
        {
          "output_type": "stream",
          "name": "stdout",
          "text": [
            "Data Sebelum Penanganan Nilai Hilang:\n",
            "   Name   Age   Salary Department\n",
            "0  John  28.0  50000.0         HR\n",
            "1  Sara   NaN  62000.0    Finance\n",
            "2  Jake  34.0      NaN         IT\n",
            "3  Lily  25.0      NaN  Marketing\n",
            "4  None  40.0  75000.0    finance\n",
            "\n",
            "Jumlah Nilai Hilang per Kolom:\n",
            "Name          1\n",
            "Age           1\n",
            "Salary        2\n",
            "Department    0\n",
            "dtype: int64\n",
            "\n",
            "Data Setelah Penanganan Nilai Hilang:\n",
            "   Name    Age   Salary Department\n",
            "0  John  28.00  50000.0         HR\n",
            "1  Sara  31.75  62000.0    Finance\n",
            "2  Jake  34.00  62000.0         IT\n",
            "3  Lily  25.00  62000.0  Marketing\n"
          ]
        },
        {
          "output_type": "stream",
          "name": "stderr",
          "text": [
            "<ipython-input-18-8bd905479b97>:19: FutureWarning: A value is trying to be set on a copy of a DataFrame or Series through chained assignment using an inplace method.\n",
            "The behavior will change in pandas 3.0. This inplace method will never work because the intermediate object on which we are setting values always behaves as a copy.\n",
            "\n",
            "For example, when doing 'df[col].method(value, inplace=True)', try using 'df.method({col: value}, inplace=True)' or df[col] = df[col].method(value) instead, to perform the operation inplace on the original object.\n",
            "\n",
            "\n",
            "  df['Age'].fillna(df['Age'].mean(), inplace=True)  # Mengisi nilai hilang dengan rata-rata usia\n",
            "<ipython-input-18-8bd905479b97>:20: FutureWarning: A value is trying to be set on a copy of a DataFrame or Series through chained assignment using an inplace method.\n",
            "The behavior will change in pandas 3.0. This inplace method will never work because the intermediate object on which we are setting values always behaves as a copy.\n",
            "\n",
            "For example, when doing 'df[col].method(value, inplace=True)', try using 'df.method({col: value}, inplace=True)' or df[col] = df[col].method(value) instead, to perform the operation inplace on the original object.\n",
            "\n",
            "\n",
            "  df['Salary'].fillna(df['Salary'].median(), inplace=True)  # Mengisi nilai hilang dengan median gaji\n"
          ]
        }
      ]
    },
    {
      "cell_type": "markdown",
      "source": [
        "- Implement data transformations to normalize numerical columns."
      ],
      "metadata": {
        "id": "le4gBpBiDjwe"
      },
      "id": "le4gBpBiDjwe"
    },
    {
      "cell_type": "code",
      "source": [
        "from sklearn.preprocessing import StandardScaler\n",
        "\n",
        "# Menormalkan kolom numerik (Age dan Salary)\n",
        "scaler = StandardScaler()\n",
        "df[['Age', 'Salary']] = scaler.fit_transform(df[['Age', 'Salary']])\n",
        "\n",
        "print(\"\\nData Setelah Normalisasi Kolom Numerik:\")\n",
        "print(df)\n"
      ],
      "metadata": {
        "colab": {
          "base_uri": "https://localhost:8080/"
        },
        "id": "E8aCvfnuDR46",
        "outputId": "8845959b-08bd-49f9-dae4-38ba2db225ed"
      },
      "id": "E8aCvfnuDR46",
      "execution_count": null,
      "outputs": [
        {
          "output_type": "stream",
          "name": "stdout",
          "text": [
            "\n",
            "Data Setelah Normalisasi Kolom Numerik:\n",
            "   Name       Age    Salary Department\n",
            "0  John -0.488813 -1.732051         HR\n",
            "1  Sara  0.597438  0.577350    Finance\n",
            "2  Jake  1.249189  0.577350         IT\n",
            "3  Lily -1.357814  0.577350  Marketing\n"
          ]
        }
      ]
    },
    {
      "cell_type": "markdown",
      "source": [
        "- Standardize categorical columns and remove duplicates."
      ],
      "metadata": {
        "id": "2hFmpurdDuP6"
      },
      "id": "2hFmpurdDuP6"
    },
    {
      "cell_type": "code",
      "source": [
        "# Standarisasi nilai kategorikal (mengubah menjadi huruf kapital yang konsisten)\n",
        "df['Department'] = df['Department'].str.capitalize()\n",
        "\n",
        "# Menghapus duplikat berdasarkan kolom 'Name' dan 'Department'\n",
        "df = df.drop_duplicates(subset=['Name', 'Department'])\n",
        "\n",
        "print(\"\\nData Setelah Standarisasi dan Duplikat Dihapus:\")\n",
        "print(df)\n"
      ],
      "metadata": {
        "colab": {
          "base_uri": "https://localhost:8080/"
        },
        "id": "nRRL9y0tDV8i",
        "outputId": "4511eed1-9907-402b-c03b-0381308c8f50"
      },
      "id": "nRRL9y0tDV8i",
      "execution_count": null,
      "outputs": [
        {
          "output_type": "stream",
          "name": "stdout",
          "text": [
            "\n",
            "Data Setelah Standarisasi dan Duplikat Dihapus:\n",
            "   Name       Age    Salary Department\n",
            "0  John -0.488813 -1.732051         Hr\n",
            "1  Sara  0.597438  0.577350    Finance\n",
            "2  Jake  1.249189  0.577350         It\n",
            "3  Lily -1.357814  0.577350  Marketing\n"
          ]
        }
      ]
    },
    {
      "cell_type": "markdown",
      "id": "f9ea63bf",
      "metadata": {
        "id": "f9ea63bf"
      },
      "source": [
        "## Pertemuan 13: Data Visualization using Matplotlib and Seaborn"
      ]
    },
    {
      "cell_type": "code",
      "execution_count": null,
      "id": "37b534ba",
      "metadata": {
        "colab": {
          "base_uri": "https://localhost:8080/",
          "height": 487
        },
        "id": "37b534ba",
        "outputId": "50686d96-66cb-4e97-8740-dc0eb13b4e96"
      },
      "outputs": [
        {
          "output_type": "display_data",
          "data": {
            "text/plain": [
              "<Figure size 800x500 with 1 Axes>"
            ],
            "image/png": "[encoded data removed]"
          },
          "metadata": {}
        }
      ],
      "source": [
        "# Exercise 1: Basic Plotting with Matplotlib\n",
        "import matplotlib.pyplot as plt\n",
        "\n",
        "# Data for plotting\n",
        "categories = ['Category A', 'Category B', 'Category C']\n",
        "values = [23, 17, 35]\n",
        "\n",
        "# Plot\n",
        "plt.figure(figsize=(8, 5))\n",
        "plt.bar(categories, values, color='cyan')\n",
        "plt.xlabel('Categories')\n",
        "plt.ylabel('Values')\n",
        "plt.title('Bar Chart of Categories')\n",
        "plt.show()\n"
      ]
    },
    {
      "cell_type": "code",
      "execution_count": null,
      "id": "beb842ca",
      "metadata": {
        "colab": {
          "base_uri": "https://localhost:8080/",
          "height": 472
        },
        "id": "beb842ca",
        "outputId": "92511c6b-6fcf-456a-9da5-4d225754637a"
      },
      "outputs": [
        {
          "output_type": "display_data",
          "data": {
            "text/plain": [
              "<Figure size 640x480 with 1 Axes>"
            ],
            "image/png": "[encoded data removed]"
          },
          "metadata": {}
        }
      ],
      "source": [
        "# Exercise 2: Seaborn for Relationship Visualization\n",
        "import seaborn as sns\n",
        "import pandas as pd\n",
        "\n",
        "# Sample data\n",
        "data = {\n",
        "    'Hours Studied': [1, 2, 3, 4, 5, 6, 7, 8, 9, 10],\n",
        "    'Scores': [35, 45, 48, 52, 57, 60, 63, 68, 72, 78]\n",
        "}\n",
        "df = pd.DataFrame(data)\n",
        "\n",
        "# Plot\n",
        "sns.regplot(x='Hours Studied', y='Scores', data=df)\n",
        "plt.title('Relationship between Hours Studied and Scores')\n",
        "plt.show()\n"
      ]
    },
    {
      "cell_type": "markdown",
      "id": "770a52e0",
      "metadata": {
        "id": "770a52e0"
      },
      "source": [
        "### Practice Tasks\n",
        "- Use Matplotlib to create a multi-bar chart to compare data across groups.\n",
        "\n",
        "\n"
      ]
    },
    {
      "cell_type": "code",
      "source": [
        "import pandas as pd\n",
        "import matplotlib.pyplot as plt\n",
        "\n",
        "# Membuat dataset untuk perbandingan penjualan antar bulan\n",
        "data = {\n",
        "    'Kategori': ['Elektronik', 'Kesehatan', 'Furnitur', 'Pakaian'],\n",
        "    'Bulan1': [150, 200, 250, 300],\n",
        "    'Bulan2': [180, 210, 240, 290],\n",
        "    'Bulan3': [210, 220, 230, 280]\n",
        "}\n",
        "\n",
        "df = pd.DataFrame(data)\n",
        "df.set_index('Kategori', inplace=True)\n",
        "\n",
        "# Membuat plot multi-batang untuk membandingkan penjualan antar bulan\n",
        "plt.figure(figsize=(10, 6))\n",
        "df.plot(kind='bar', colormap='coolwarm')\n",
        "\n",
        "# Menyesuaikan tampilan\n",
        "plt.title('Perbandingan Penjualan per Kategori (Bulan 1, 2, 3)')\n",
        "plt.xlabel('Kategori')\n",
        "plt.ylabel('Penjualan')\n",
        "plt.xticks(rotation=0)  # Menjaga label kategori tetap horizontal\n",
        "plt.legend(title='Bulan', loc='upper left')\n",
        "\n",
        "# Menampilkan plot\n",
        "plt.show()"
      ],
      "metadata": {
        "colab": {
          "base_uri": "https://localhost:8080/",
          "height": 489
        },
        "id": "7dbJJvB-EsaF",
        "outputId": "3abca26f-ff64-4013-97b7-27ed1d3e0d6c"
      },
      "id": "7dbJJvB-EsaF",
      "execution_count": null,
      "outputs": [
        {
          "output_type": "display_data",
          "data": {
            "text/plain": [
              "<Figure size 1000x600 with 0 Axes>"
            ]
          },
          "metadata": {}
        },
        {
          "output_type": "display_data",
          "data": {
            "text/plain": [
              "<Figure size 640x480 with 1 Axes>"
            ],
            "image/png": "[encoded data removed]"
          },
          "metadata": {}
        }
      ]
    },
    {
      "cell_type": "markdown",
      "source": [
        "- Generate scatter plots with Seaborn to explore relationships between variables in a dataset."
      ],
      "metadata": {
        "id": "VSeLvjXUAl-s"
      },
      "id": "VSeLvjXUAl-s"
    },
    {
      "cell_type": "code",
      "source": [
        "import seaborn as sns\n",
        "import matplotlib.pyplot as plt\n",
        "\n",
        "# Menggunakan dataset iris dari seaborn\n",
        "iris = sns.load_dataset('iris')\n",
        "\n",
        "# Mengubah skema warna menggunakan seaborn\n",
        "sns.set_palette('Set1')\n",
        "\n",
        "# Membuat plot sebar\n",
        "plt.figure(figsize=(10, 6))\n",
        "sns.scatterplot(x='sepal_length', y='sepal_width', data=iris, hue='species', style='species')\n",
        "\n",
        "# Menyesuaikan tampilan plot sebar\n",
        "plt.title('Hubungan antara Panjang dan Lebar Sepal pada Bunga Iris')\n",
        "plt.xlabel('Panjang Sepal')\n",
        "plt.ylabel('Lebar Sepal')\n",
        "\n",
        "# Menampilkan plot\n",
        "plt.tight_layout()\n",
        "plt.show()\n"
      ],
      "metadata": {
        "colab": {
          "base_uri": "https://localhost:8080/",
          "height": 607
        },
        "id": "He1pXb98GfV4",
        "outputId": "d954158c-8620-486c-cba2-792ac2d0cf9e"
      },
      "id": "He1pXb98GfV4",
      "execution_count": null,
      "outputs": [
        {
          "output_type": "display_data",
          "data": {
            "text/plain": [
              "<Figure size 1000x600 with 1 Axes>"
            ],
            "image/png": "[encoded data removed]"
          },
          "metadata": {}
        }
      ]
    },
    {
      "cell_type": "markdown",
      "id": "66d8f5b9",
      "metadata": {
        "id": "66d8f5b9"
      },
      "source": [
        "## Homework for Students\n",
        "- **Pertemuan 12**: Clean a real-world dataset (from Kaggle or another source), perform normalization, handle outliers, and prepare the data for analysis.\n",
        "- **Pertemuan 13**: Create a dashboard with multiple visualizations to summarize a dataset of your choice.\n"
      ]
    },
    {
      "cell_type": "code",
      "source": [
        "import pandas as pd\n",
        "from sklearn.preprocessing import MinMaxScaler, LabelEncoder\n",
        "\n",
        "# Membaca dataset dari file CSV\n",
        "df = pd.read_csv('/content/Supermarket_Sales_Cleaned_Modified.csv')\n",
        "\n",
        "# Menampilkan informasi umum tentang dataset\n",
        "print(df.info())"
      ],
      "metadata": {
        "colab": {
          "base_uri": "https://localhost:8080/"
        },
        "id": "7Xg_XnwQTlVJ",
        "outputId": "40196faf-3995-42df-b57a-f39e63c92436"
      },
      "id": "7Xg_XnwQTlVJ",
      "execution_count": null,
      "outputs": [
        {
          "output_type": "stream",
          "name": "stdout",
          "text": [
            "<class 'pandas.core.frame.DataFrame'>\n",
            "RangeIndex: 1000 entries, 0 to 999\n",
            "Data columns (total 20 columns):\n",
            " #   Column                   Non-Null Count  Dtype  \n",
            "---  ------                   --------------  -----  \n",
            " 0   Invoice ID               907 non-null    object \n",
            " 1   Branch                   889 non-null    object \n",
            " 2   City                     883 non-null    object \n",
            " 3   Customer type            921 non-null    object \n",
            " 4   Gender                   921 non-null    object \n",
            " 5   Product line             898 non-null    object \n",
            " 6   Unit price               904 non-null    float64\n",
            " 7   Quantity                 907 non-null    float64\n",
            " 8   Tax 5%                   910 non-null    float64\n",
            " 9   Total                    909 non-null    float64\n",
            " 10  Date                     908 non-null    object \n",
            " 11  Time                     910 non-null    object \n",
            " 12  Payment                  912 non-null    object \n",
            " 13  cogs                     894 non-null    float64\n",
            " 14  gross margin percentage  908 non-null    float64\n",
            " 15  gross income             909 non-null    float64\n",
            " 16  Rating                   916 non-null    float64\n",
            " 17  Day                      903 non-null    float64\n",
            " 18  Month                    917 non-null    float64\n",
            " 19  Year                     891 non-null    float64\n",
            "dtypes: float64(11), object(9)\n",
            "memory usage: 156.4+ KB\n",
            "None\n"
          ]
        }
      ]
    },
    {
      "cell_type": "code",
      "source": [
        "# Menampilkan nilai yang hilang di setiap kolom\n",
        "missing_values = df.isnull().sum()\n",
        "print(\"Nilai yang hilang di setiap kolom:\")\n",
        "print(missing_values)"
      ],
      "metadata": {
        "colab": {
          "base_uri": "https://localhost:8080/"
        },
        "id": "kQZhvtWGT3is",
        "outputId": "ba72b527-7bdc-4594-a0d6-2c4484cad16f"
      },
      "id": "kQZhvtWGT3is",
      "execution_count": null,
      "outputs": [
        {
          "output_type": "stream",
          "name": "stdout",
          "text": [
            "Nilai yang hilang di setiap kolom:\n",
            "Invoice ID                  93\n",
            "Branch                     111\n",
            "City                       117\n",
            "Customer type               79\n",
            "Gender                      79\n",
            "Product line               102\n",
            "Unit price                  96\n",
            "Quantity                    93\n",
            "Tax 5%                      90\n",
            "Total                       91\n",
            "Date                        92\n",
            "Time                        90\n",
            "Payment                     88\n",
            "cogs                       106\n",
            "gross margin percentage     92\n",
            "gross income                91\n",
            "Rating                      84\n",
            "Day                         97\n",
            "Month                       83\n",
            "Year                       109\n",
            "dtype: int64\n"
          ]
        }
      ]
    },
    {
      "cell_type": "code",
      "source": [
        "# Memisahkan kolom numerik dan kategorikal\n",
        "numeric_columns = df.select_dtypes(include=['float64', 'int64']).columns\n",
        "categorical_columns = df.select_dtypes(include=['object']).columns\n",
        "\n",
        "# Mengisi nilai yang hilang pada kolom numerik dengan rata-rata (mean)\n",
        "df[numeric_columns] = df[numeric_columns].fillna(df[numeric_columns].mean())\n",
        "print(\"Nilai yang hilang pada kolom numerik telah diisikan dengan rata-rata.\\n\")\n",
        "\n",
        "# Mengisi nilai yang hilang pada kolom kategorikal dengan modus (nilai terbanyak)\n",
        "for col in categorical_columns:\n",
        "    df[col] = df[col].fillna(df[col].mode()[0])\n",
        "    print(f\"Nilai yang hilang pada kolom '{col}' telah diisikan dengan modus.\")"
      ],
      "metadata": {
        "colab": {
          "base_uri": "https://localhost:8080/"
        },
        "id": "Z0wCoHqnTzsg",
        "outputId": "98ac2538-7c75-42be-a053-be59a823bc3d"
      },
      "id": "Z0wCoHqnTzsg",
      "execution_count": null,
      "outputs": [
        {
          "output_type": "stream",
          "name": "stdout",
          "text": [
            "Nilai yang hilang pada kolom numerik telah diisikan dengan rata-rata.\n",
            "\n",
            "Nilai yang hilang pada kolom 'Invoice ID' telah diisikan dengan modus.\n",
            "Nilai yang hilang pada kolom 'Branch' telah diisikan dengan modus.\n",
            "Nilai yang hilang pada kolom 'City' telah diisikan dengan modus.\n",
            "Nilai yang hilang pada kolom 'Customer type' telah diisikan dengan modus.\n",
            "Nilai yang hilang pada kolom 'Gender' telah diisikan dengan modus.\n",
            "Nilai yang hilang pada kolom 'Product line' telah diisikan dengan modus.\n",
            "Nilai yang hilang pada kolom 'Date' telah diisikan dengan modus.\n",
            "Nilai yang hilang pada kolom 'Time' telah diisikan dengan modus.\n",
            "Nilai yang hilang pada kolom 'Payment' telah diisikan dengan modus.\n"
          ]
        }
      ]
    },
    {
      "cell_type": "code",
      "source": [
        "# Menangani outlier dengan menggunakan IQR\n",
        "Q1 = df[numeric_columns].quantile(0.25)\n",
        "Q3 = df[numeric_columns].quantile(0.75)\n",
        "IQR = Q3 - Q1\n",
        "\n",
        "# Menghapus data yang memiliki nilai lebih dari 1.5 IQR dari kuartil pertama dan ketiga\n",
        "df_no_outliers = df[~((df[numeric_columns] < (Q1 - 1.5 * IQR)) | (df[numeric_columns] > (Q3 + 1.5 * IQR))).any(axis=1)]\n",
        "\n",
        "print(\"Outlier telah ditangani.\\n\")\n",
        "print(df_no_outliers.head())"
      ],
      "metadata": {
        "colab": {
          "base_uri": "https://localhost:8080/"
        },
        "id": "I21UI6IaT_9W",
        "outputId": "0a1de4ba-7604-4f9d-faaa-3b543196b04d"
      },
      "id": "I21UI6IaT_9W",
      "execution_count": null,
      "outputs": [
        {
          "output_type": "stream",
          "name": "stdout",
          "text": [
            "Outlier telah ditangani.\n",
            "\n",
            "    Invoice ID Branch       City Customer type  Gender  \\\n",
            "0  750-67-8428      B     Yangon        Member  Female   \n",
            "1  101-17-6199      C  Naypyitaw        Normal  Female   \n",
            "2  631-41-3108      A     Yangon        Normal    Male   \n",
            "3  123-19-1176      A     Yangon        Member    Male   \n",
            "4  373-73-7910      A     Yangon        Normal    Male   \n",
            "\n",
            "             Product line  Unit price  Quantity   Tax 5%     Total  \\\n",
            "0       Health and beauty       74.69       7.0  26.1415  548.9715   \n",
            "1  Electronic accessories       15.28       5.0   3.8200   80.2200   \n",
            "2     Fashion accessories       46.33       7.0  16.2155  340.5255   \n",
            "3       Health and beauty       58.22       8.0  23.2880  489.0480   \n",
            "4       Sports and travel       86.31       7.0  30.2085  634.3785   \n",
            "\n",
            "         Date   Time      Payment    cogs  gross margin percentage  \\\n",
            "0  2019-01-05  13:08      Ewallet  522.83                 4.761905   \n",
            "1  2019-03-08  10:29         Cash   76.40                 4.761905   \n",
            "2  2019-03-03  13:23  Credit card  324.31                 4.761905   \n",
            "3  2019-01-27  20:33      Ewallet  465.76                 4.761905   \n",
            "4  2019-02-08  10:37      Ewallet  604.17                 4.761905   \n",
            "\n",
            "   gross income   Rating        Day     Month    Year  \n",
            "0     26.141500  9.10000   5.000000  1.994547  2019.0  \n",
            "1     15.619674  9.60000   8.000000  3.000000  2019.0  \n",
            "2     16.215500  6.98548   3.000000  3.000000  2019.0  \n",
            "3     23.288000  8.40000  15.273533  1.000000  2019.0  \n",
            "4     30.208500  5.30000   8.000000  2.000000  2019.0  \n"
          ]
        }
      ]
    },
    {
      "cell_type": "code",
      "source": [
        "# Normalisasi kolom numerik menggunakan MinMaxScaler\n",
        "scaler = MinMaxScaler()\n",
        "df[numeric_columns] = scaler.fit_transform(df[numeric_columns])\n",
        "\n",
        "print(\"Kolom numerik telah dinormalisasi.\\n\")\n",
        "print(df[numeric_columns].head())"
      ],
      "metadata": {
        "colab": {
          "base_uri": "https://localhost:8080/"
        },
        "id": "NQ7NFSLvWcKG",
        "outputId": "b715f373-abdb-4873-887c-77f86d1f9509"
      },
      "id": "NQ7NFSLvWcKG",
      "execution_count": null,
      "outputs": [
        {
          "output_type": "stream",
          "name": "stdout",
          "text": [
            "Kolom numerik telah dinormalisasi.\n",
            "\n",
            "   Unit price  Quantity    Tax 5%     Total      cogs  \\\n",
            "0    0.718847  0.666667  0.521616  0.521616  0.521616   \n",
            "1    0.057855  0.444444  0.067387  0.067387  0.067387   \n",
            "2    0.403316  0.666667  0.319628  0.319628  0.319628   \n",
            "3    0.535603  0.777778  0.463549  0.463549  0.463549   \n",
            "4    0.848131  0.666667  0.604377  0.604377  0.604377   \n",
            "\n",
            "   gross margin percentage  gross income    Rating       Day     Month  Year  \n",
            "0                      0.0      0.521616  0.850000  0.133333  0.497274   0.0  \n",
            "1                      0.0      0.307503  0.933333  0.233333  1.000000   0.0  \n",
            "2                      0.0      0.319628  0.497580  0.066667  1.000000   0.0  \n",
            "3                      0.0      0.463549  0.733333  0.475784  0.000000   0.0  \n",
            "4                      0.0      0.604377  0.216667  0.233333  0.500000   0.0  \n"
          ]
        }
      ]
    },
    {
      "cell_type": "code",
      "source": [
        "# Standarisasi kolom kategorikal (misalnya mengubah semua huruf menjadi kapital pertama)\n",
        "for col in categorical_columns:\n",
        "    df[col] = df[col].str.capitalize()\n",
        "\n",
        "# Menampilkan hasil setelah encoding dan standarisasi\n",
        "print(\"Kolom kategorikal  distandarisasi:\\n\")\n",
        "print(df.head())"
      ],
      "metadata": {
        "colab": {
          "base_uri": "https://localhost:8080/"
        },
        "id": "BFU-nxwLhQud",
        "outputId": "dbcd6da0-8061-4850-e522-1de05dad3a33"
      },
      "id": "BFU-nxwLhQud",
      "execution_count": null,
      "outputs": [
        {
          "output_type": "stream",
          "name": "stdout",
          "text": [
            "Kolom kategorikal  distandarisasi:\n",
            "\n",
            "    Invoice ID Branch       City Customer type  Gender  \\\n",
            "0  750-67-8428      B     Yangon        Member  Female   \n",
            "1  101-17-6199      C  Naypyitaw        Normal  Female   \n",
            "2  631-41-3108      A     Yangon        Normal    Male   \n",
            "3  123-19-1176      A     Yangon        Member    Male   \n",
            "4  373-73-7910      A     Yangon        Normal    Male   \n",
            "\n",
            "             Product line  Unit price  Quantity    Tax 5%     Total  \\\n",
            "0       Health and beauty    0.718847  0.666667  0.521616  0.521616   \n",
            "1  Electronic accessories    0.057855  0.444444  0.067387  0.067387   \n",
            "2     Fashion accessories    0.403316  0.666667  0.319628  0.319628   \n",
            "3       Health and beauty    0.535603  0.777778  0.463549  0.463549   \n",
            "4       Sports and travel    0.848131  0.666667  0.604377  0.604377   \n",
            "\n",
            "         Date   Time      Payment      cogs  gross margin percentage  \\\n",
            "0  2019-01-05  13:08      Ewallet  0.521616                      0.0   \n",
            "1  2019-03-08  10:29         Cash  0.067387                      0.0   \n",
            "2  2019-03-03  13:23  Credit card  0.319628                      0.0   \n",
            "3  2019-01-27  20:33      Ewallet  0.463549                      0.0   \n",
            "4  2019-02-08  10:37      Ewallet  0.604377                      0.0   \n",
            "\n",
            "   gross income    Rating       Day     Month  Year  \n",
            "0      0.521616  0.850000  0.133333  0.497274   0.0  \n",
            "1      0.307503  0.933333  0.233333  1.000000   0.0  \n",
            "2      0.319628  0.497580  0.066667  1.000000   0.0  \n",
            "3      0.463549  0.733333  0.475784  0.000000   0.0  \n",
            "4      0.604377  0.216667  0.233333  0.500000   0.0  \n"
          ]
        }
      ]
    },
    {
      "cell_type": "code",
      "source": [
        "# Menghapus duplikat\n",
        "df.drop_duplicates(inplace=True)\n",
        "\n",
        "print(\"Duplikat telah dihapus.\\n\")\n",
        "print(df.head())"
      ],
      "metadata": {
        "colab": {
          "base_uri": "https://localhost:8080/"
        },
        "id": "4ESiauZSWqut",
        "outputId": "7dfc80fe-3368-4758-967a-d8efc46e73b6"
      },
      "id": "4ESiauZSWqut",
      "execution_count": null,
      "outputs": [
        {
          "output_type": "stream",
          "name": "stdout",
          "text": [
            "Duplikat telah dihapus.\n",
            "\n",
            "    Invoice ID Branch       City Customer type  Gender  \\\n",
            "0  750-67-8428      B     Yangon        Member  Female   \n",
            "1  101-17-6199      C  Naypyitaw        Normal  Female   \n",
            "2  631-41-3108      A     Yangon        Normal    Male   \n",
            "3  123-19-1176      A     Yangon        Member    Male   \n",
            "4  373-73-7910      A     Yangon        Normal    Male   \n",
            "\n",
            "             Product line  Unit price  Quantity    Tax 5%     Total  \\\n",
            "0       Health and beauty    0.718847  0.666667  0.521616  0.521616   \n",
            "1  Electronic accessories    0.057855  0.444444  0.067387  0.067387   \n",
            "2     Fashion accessories    0.403316  0.666667  0.319628  0.319628   \n",
            "3       Health and beauty    0.535603  0.777778  0.463549  0.463549   \n",
            "4       Sports and travel    0.848131  0.666667  0.604377  0.604377   \n",
            "\n",
            "         Date   Time      Payment      cogs  gross margin percentage  \\\n",
            "0  2019-01-05  13:08      Ewallet  0.521616                      0.0   \n",
            "1  2019-03-08  10:29         Cash  0.067387                      0.0   \n",
            "2  2019-03-03  13:23  Credit card  0.319628                      0.0   \n",
            "3  2019-01-27  20:33      Ewallet  0.463549                      0.0   \n",
            "4  2019-02-08  10:37      Ewallet  0.604377                      0.0   \n",
            "\n",
            "   gross income    Rating       Day     Month  Year  \n",
            "0      0.521616  0.850000  0.133333  0.497274   0.0  \n",
            "1      0.307503  0.933333  0.233333  1.000000   0.0  \n",
            "2      0.319628  0.497580  0.066667  1.000000   0.0  \n",
            "3      0.463549  0.733333  0.475784  0.000000   0.0  \n",
            "4      0.604377  0.216667  0.233333  0.500000   0.0  \n"
          ]
        }
      ]
    },
    {
      "cell_type": "code",
      "source": [
        "# Menampilkan hasil akhir\n",
        "print(\"Data yang telah dibersihkan dan diproses:\\n\")\n",
        "print(df.head())"
      ],
      "metadata": {
        "colab": {
          "base_uri": "https://localhost:8080/"
        },
        "id": "xD2e9xDRX2d3",
        "outputId": "cca938e8-d249-4784-ff8f-323828585ba0"
      },
      "id": "xD2e9xDRX2d3",
      "execution_count": null,
      "outputs": [
        {
          "output_type": "stream",
          "name": "stdout",
          "text": [
            "Data yang telah dibersihkan dan diproses:\n",
            "\n",
            "    Invoice ID Branch       City Customer type  Gender  \\\n",
            "0  750-67-8428      B     Yangon        Member  Female   \n",
            "1  101-17-6199      C  Naypyitaw        Normal  Female   \n",
            "2  631-41-3108      A     Yangon        Normal    Male   \n",
            "3  123-19-1176      A     Yangon        Member    Male   \n",
            "4  373-73-7910      A     Yangon        Normal    Male   \n",
            "\n",
            "             Product line  Unit price  Quantity    Tax 5%     Total  \\\n",
            "0       Health and beauty    0.718847  0.666667  0.521616  0.521616   \n",
            "1  Electronic accessories    0.057855  0.444444  0.067387  0.067387   \n",
            "2     Fashion accessories    0.403316  0.666667  0.319628  0.319628   \n",
            "3       Health and beauty    0.535603  0.777778  0.463549  0.463549   \n",
            "4       Sports and travel    0.848131  0.666667  0.604377  0.604377   \n",
            "\n",
            "         Date   Time      Payment      cogs  gross margin percentage  \\\n",
            "0  2019-01-05  13:08      Ewallet  0.521616                      0.0   \n",
            "1  2019-03-08  10:29         Cash  0.067387                      0.0   \n",
            "2  2019-03-03  13:23  Credit card  0.319628                      0.0   \n",
            "3  2019-01-27  20:33      Ewallet  0.463549                      0.0   \n",
            "4  2019-02-08  10:37      Ewallet  0.604377                      0.0   \n",
            "\n",
            "   gross income    Rating       Day     Month  Year  \n",
            "0      0.521616  0.850000  0.133333  0.497274   0.0  \n",
            "1      0.307503  0.933333  0.233333  1.000000   0.0  \n",
            "2      0.319628  0.497580  0.066667  1.000000   0.0  \n",
            "3      0.463549  0.733333  0.475784  0.000000   0.0  \n",
            "4      0.604377  0.216667  0.233333  0.500000   0.0  \n"
          ]
        }
      ]
    },
    {
      "cell_type": "code",
      "source": [
        "pip install dash plotly pandas"
      ],
      "metadata": {
        "colab": {
          "base_uri": "https://localhost:8080/"
        },
        "id": "LbOByz2cYbdh",
        "outputId": "00ad7071-6dca-4a56-8153-1d15ac7fb2f7"
      },
      "id": "LbOByz2cYbdh",
      "execution_count": null,
      "outputs": [
        {
          "output_type": "stream",
          "name": "stdout",
          "text": [
            "Requirement already satisfied: dash in /usr/local/lib/python3.10/dist-packages (2.18.2)\n",
            "Requirement already satisfied: plotly in /usr/local/lib/python3.10/dist-packages (5.24.1)\n",
            "Requirement already satisfied: pandas in /usr/local/lib/python3.10/dist-packages (2.2.3)\n",
            "Requirement already satisfied: Flask<3.1,>=1.0.4 in /usr/local/lib/python3.10/dist-packages (from dash) (3.0.3)\n",
            "Requirement already satisfied: Werkzeug<3.1 in /usr/local/lib/python3.10/dist-packages (from dash) (3.0.6)\n",
            "Requirement already satisfied: dash-html-components==2.0.0 in /usr/local/lib/python3.10/dist-packages (from dash) (2.0.0)\n",
            "Requirement already satisfied: dash-core-components==2.0.0 in /usr/local/lib/python3.10/dist-packages (from dash) (2.0.0)\n",
            "Requirement already satisfied: dash-table==5.0.0 in /usr/local/lib/python3.10/dist-packages (from dash) (5.0.0)\n",
            "Requirement already satisfied: importlib-metadata in /usr/local/lib/python3.10/dist-packages (from dash) (8.5.0)\n",
            "Requirement already satisfied: typing-extensions>=4.1.1 in /usr/local/lib/python3.10/dist-packages (from dash) (4.12.2)\n",
            "Requirement already satisfied: requests in /usr/local/lib/python3.10/dist-packages (from dash) (2.32.3)\n",
            "Requirement already satisfied: retrying in /usr/local/lib/python3.10/dist-packages (from dash) (1.3.4)\n",
            "Requirement already satisfied: nest-asyncio in /usr/local/lib/python3.10/dist-packages (from dash) (1.6.0)\n",
            "Requirement already satisfied: setuptools in /usr/local/lib/python3.10/dist-packages (from dash) (75.1.0)\n",
            "Requirement already satisfied: tenacity>=6.2.0 in /usr/local/lib/python3.10/dist-packages (from plotly) (9.0.0)\n",
            "Requirement already satisfied: packaging in /usr/local/lib/python3.10/dist-packages (from plotly) (24.2)\n",
            "Requirement already satisfied: numpy>=1.22.4 in /usr/local/lib/python3.10/dist-packages (from pandas) (1.26.4)\n",
            "Requirement already satisfied: python-dateutil>=2.8.2 in /usr/local/lib/python3.10/dist-packages (from pandas) (2.8.2)\n",
            "Requirement already satisfied: pytz>=2020.1 in /usr/local/lib/python3.10/dist-packages (from pandas) (2024.2)\n",
            "Requirement already satisfied: tzdata>=2022.7 in /usr/local/lib/python3.10/dist-packages (from pandas) (2024.2)\n",
            "Requirement already satisfied: Jinja2>=3.1.2 in /usr/local/lib/python3.10/dist-packages (from Flask<3.1,>=1.0.4->dash) (3.1.4)\n",
            "Requirement already satisfied: itsdangerous>=2.1.2 in /usr/local/lib/python3.10/dist-packages (from Flask<3.1,>=1.0.4->dash) (2.2.0)\n",
            "Requirement already satisfied: click>=8.1.3 in /usr/local/lib/python3.10/dist-packages (from Flask<3.1,>=1.0.4->dash) (8.1.7)\n",
            "Requirement already satisfied: blinker>=1.6.2 in /usr/local/lib/python3.10/dist-packages (from Flask<3.1,>=1.0.4->dash) (1.9.0)\n",
            "Requirement already satisfied: six>=1.5 in /usr/local/lib/python3.10/dist-packages (from python-dateutil>=2.8.2->pandas) (1.16.0)\n",
            "Requirement already satisfied: MarkupSafe>=2.1.1 in /usr/local/lib/python3.10/dist-packages (from Werkzeug<3.1->dash) (3.0.2)\n",
            "Requirement already satisfied: zipp>=3.20 in /usr/local/lib/python3.10/dist-packages (from importlib-metadata->dash) (3.21.0)\n",
            "Requirement already satisfied: charset-normalizer<4,>=2 in /usr/local/lib/python3.10/dist-packages (from requests->dash) (3.4.0)\n",
            "Requirement already satisfied: idna<4,>=2.5 in /usr/local/lib/python3.10/dist-packages (from requests->dash) (3.10)\n",
            "Requirement already satisfied: urllib3<3,>=1.21.1 in /usr/local/lib/python3.10/dist-packages (from requests->dash) (2.2.3)\n",
            "Requirement already satisfied: certifi>=2017.4.17 in /usr/local/lib/python3.10/dist-packages (from requests->dash) (2024.8.30)\n"
          ]
        }
      ]
    },
    {
      "cell_type": "code",
      "source": [
        "import dash\n",
        "from dash import dcc, html\n",
        "import plotly.express as px\n",
        "import pandas as pd\n",
        "\n",
        "# Menginisialisasi aplikasi Dash\n",
        "app = dash.Dash(__name__)\n",
        "\n",
        "# Menyiapkan layout dashboard\n",
        "app.layout = html.Div(children=[\n",
        "    html.H1(\"Supermarket Sales Dashboard\", style={'textAlign': 'center'}),\n",
        "\n",
        "    # Grafik 1: Distribusi Penjualan Total\n",
        "    html.Div([\n",
        "        dcc.Graph(\n",
        "            id='sales-distribution',\n",
        "            figure=px.histogram(df, x='Total', title=\"Distribusi Penjualan Total\")\n",
        "        )\n",
        "    ]),\n",
        "\n",
        "    # Grafik 2: Penjualan Berdasarkan Metode Pembayaran\n",
        "    html.Div([\n",
        "        dcc.Graph(\n",
        "            id='payment-method-sales',\n",
        "            figure=px.pie(df, names='Payment', values='Total', title=\"Penjualan Berdasarkan Metode Pembayaran\")\n",
        "        )\n",
        "    ]),\n",
        "\n",
        "    # Grafik 3: Penjualan Berdasarkan Cabang\n",
        "    html.Div([\n",
        "        dcc.Graph(\n",
        "            id='branch-sales',\n",
        "            figure=px.bar(df, x='Branch', y='Total', title=\"Penjualan Berdasarkan Cabang\", color='Branch')\n",
        "        )\n",
        "    ]),\n",
        "\n",
        "    # Grafik 4: Penjualan Berdasarkan Waktu\n",
        "    html.Div([\n",
        "        dcc.Graph(\n",
        "            id='sales-time',\n",
        "            figure=px.area(df, x='Month', y='Total', title=\"Penjualan Berdasarkan Waktu (Berdasarkan Bulan)\", line_group='Month')\n",
        "        )\n",
        "    ])\n",
        "])\n",
        "\n",
        "# Menjalankan aplikasi Dash\n",
        "if __name__ == '__main__':\n",
        "    app.run_server(debug=True)\n"
      ],
      "metadata": {
        "colab": {
          "base_uri": "https://localhost:8080/",
          "height": 671
        },
        "id": "VJCg_xfyYVFm",
        "outputId": "88ba19d7-ec39-435f-9986-b562b7c2019c"
      },
      "id": "VJCg_xfyYVFm",
      "execution_count": null,
      "outputs": [
        {
          "output_type": "display_data",
          "data": {
            "text/plain": [
              "<IPython.core.display.Javascript object>"
            ],
            "application/javascript": [
              "(async (port, path, width, height, cache, element) => {\n",
              "    if (!google.colab.kernel.accessAllowed && !cache) {\n",
              "      return;\n",
              "    }\n",
              "    element.appendChild(document.createTextNode(''));\n",
              "    const url = await google.colab.kernel.proxyPort(port, {cache});\n",
              "    const iframe = document.createElement('iframe');\n",
              "    iframe.src = new URL(path, url).toString();\n",
              "    iframe.height = height;\n",
              "    iframe.width = width;\n",
              "    iframe.style.border = 0;\n",
              "    iframe.allow = [\n",
              "        'accelerometer',\n",
              "        'autoplay',\n",
              "        'camera',\n",
              "        'clipboard-read',\n",
              "        'clipboard-write',\n",
              "        'gyroscope',\n",
              "        'magnetometer',\n",
              "        'microphone',\n",
              "        'serial',\n",
              "        'usb',\n",
              "        'xr-spatial-tracking',\n",
              "    ].join('; ');\n",
              "    element.appendChild(iframe);\n",
              "  })(8050, \"/\", \"100%\", 650, false, window.element)"
            ]
          },
          "metadata": {}
        }
      ]
    }
  ],
  "metadata": {
    "language_info": {
      "name": "python"
    },
    "colab": {
      "provenance": []
    },
    "kernelspec": {
      "name": "python3",
      "display_name": "Python 3"
    }
  },
  "nbformat": 4,
  "nbformat_minor": 5
}