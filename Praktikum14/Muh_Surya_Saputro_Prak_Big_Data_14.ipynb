{
  "cells": [
    {
      "cell_type": "markdown",
      "id": "e2a030e3",
      "metadata": {
        "id": "e2a030e3"
      },
      "source": [
        "# Hands-On Pertemuan 14: Advanced Machine Learning using Spark MLlib"
      ]
    },
    {
      "cell_type": "markdown",
      "id": "77df771a",
      "metadata": {
        "id": "77df771a"
      },
      "source": [
        "## Introduction to Spark MLlib\n",
        "Spark MLlib is a scalable library for machine learning that integrates seamlessly with the Spark ecosystem. It supports a wide range of tasks, including regression, classification, clustering, and collaborative filtering."
      ]
    },
    {
      "cell_type": "code",
      "execution_count": null,
      "id": "d9ae225b",
      "metadata": {
        "colab": {
          "base_uri": "https://localhost:8080/"
        },
        "id": "d9ae225b",
        "outputId": "bf0c2d78-d889-4847-dcb7-7af5c6bfd857"
      },
      "outputs": [
        {
          "name": "stdout",
          "output_type": "stream",
          "text": [
            "Coefficients: [0.9999999999999992]\n",
            "Intercept: 15.000000000000009\n"
          ]
        }
      ],
      "source": [
        "# Example: Linear Regression with Spark MLlib\n",
        "from pyspark.sql import SparkSession\n",
        "from pyspark.ml.regression import LinearRegression\n",
        "from pyspark.ml.feature import VectorAssembler\n",
        "\n",
        "# Initialize Spark Session\n",
        "spark = SparkSession.builder.appName('MLlib Example').getOrCreate()\n",
        "\n",
        "# Load sample data\n",
        "data = [(1, 5.0, 20.0), (2, 10.0, 25.0), (3, 15.0, 30.0), (4, 20.0, 35.0)]\n",
        "columns = ['ID', 'Feature', 'Target']\n",
        "df = spark.createDataFrame(data, columns)\n",
        "\n",
        "# Prepare data for modeling\n",
        "assembler = VectorAssembler(inputCols=['Feature'], outputCol='Features')\n",
        "df_transformed = assembler.transform(df)\n",
        "\n",
        "# Train a linear regression model\n",
        "lr = LinearRegression(featuresCol='Features', labelCol='Target')\n",
        "model = lr.fit(df_transformed)\n",
        "\n",
        "# Print model coefficients\n",
        "print(f'Coefficients: {model.coefficients}')\n",
        "print(f'Intercept: {model.intercept}')\n"
      ]
    },
    {
      "cell_type": "code",
      "execution_count": null,
      "id": "0b266267",
      "metadata": {
        "colab": {
          "base_uri": "https://localhost:8080/"
        },
        "id": "0b266267",
        "outputId": "71a94579-78bf-4c61-9fa9-00bbbbe1a26a"
      },
      "outputs": [
        {
          "name": "stdout",
          "output_type": "stream",
          "text": [
            "Coefficients: [-12.262057929180484,4.087352266486688]\n",
            "Intercept: 11.56891272665312\n"
          ]
        }
      ],
      "source": [
        "# Practice: Logistic Regression\n",
        "from pyspark.ml.classification import LogisticRegression\n",
        "from pyspark.ml.linalg import Vectors\n",
        "\n",
        "# Example dataset\n",
        "data = [(1, Vectors.dense([2.0, 3.0]), 0), (2, Vectors.dense([1.0, 5.0]), 1), (3, Vectors.dense([2.5, 4.5]), 1),(4, Vectors.dense([3.0, 6.0]), 0)]\n",
        "columns = ['ID', 'Features', 'Label']\n",
        "df = spark.createDataFrame(data, columns)\n",
        "\n",
        "# Train logistic regression model\n",
        "lr = LogisticRegression(featuresCol='Features', labelCol='Label')\n",
        "model = lr.fit(df)\n",
        "\n",
        "# Display coefficients and summary\n",
        "print(f'Coefficients: {model.coefficients}')\n",
        "print(f'Intercept: {model.intercept}')\n"
      ]
    },
    {
      "cell_type": "code",
      "execution_count": null,
      "id": "b9066e04",
      "metadata": {
        "colab": {
          "base_uri": "https://localhost:8080/"
        },
        "id": "b9066e04",
        "outputId": "4377587c-f997-4b2f-a9c3-0d60bb53778e"
      },
      "outputs": [
        {
          "name": "stdout",
          "output_type": "stream",
          "text": [
            "Cluster Centers: [array([3., 3.]), array([12.5, 12.5])]\n"
          ]
        }
      ],
      "source": [
        "# Practice: KMeans Clustering\n",
        "from pyspark.ml.clustering import KMeans\n",
        "from pyspark.ml.feature import VectorAssembler\n",
        "\n",
        "# Example dataset\n",
        "data = [(1, Vectors.dense([1.0, 1.0])), (2, Vectors.dense([5.0, 5.0])), (3, Vectors.dense([10.0, 10.0])), (4, Vectors.dense([15.0, 15.0]))]\n",
        "\n",
        "columns = ['ID', 'Features']\n",
        "df = spark.createDataFrame(data, columns)\n",
        "\n",
        "# Train KMeans clustering model\n",
        "kmeans = KMeans(featuresCol='Features', k=2)\n",
        "model = kmeans.fit(df)\n",
        "\n",
        "# Show cluster centers\n",
        "centers = model.clusterCenters()\n",
        "print(f'Cluster Centers: {centers}')\n"
      ]
    },
    {
      "cell_type": "markdown",
      "id": "a60a8d7e",
      "metadata": {
        "id": "a60a8d7e"
      },
      "source": [
        "## Homework\n",
        "- Load a real-world dataset into Spark and prepare it for machine learning tasks.\n",
        "- Build a classification model using Spark MLlib and evaluate its performance.\n",
        "- Explore hyperparameter tuning using cross-validation.\n"
      ]
    },
    {
      "cell_type": "code",
      "source": [
        "from pyspark.sql import SparkSession\n",
        "from pyspark.ml.feature import StringIndexer, VectorAssembler\n",
        "from pyspark.sql.functions import col, mean\n",
        "from pyspark.ml.classification import RandomForestClassifier\n",
        "from pyspark.ml.evaluation import MulticlassClassificationEvaluator\n",
        "from pyspark.ml.tuning import ParamGridBuilder, CrossValidator\n",
        "\n",
        "# Inisialisasi SparkSession\n",
        "spark = SparkSession.builder.appName(\"SupermarketSales\").getOrCreate()\n",
        "\n",
        "# Muat dataset dari file yang diunggah\n",
        "file_path = \"/content/Supermarket Sales Cleaned.csv\"\n",
        "data = spark.read.csv(file_path, header=True, inferSchema=True)\n",
        "\n",
        "# Tampilkan beberapa baris pertama untuk memeriksa data\n",
        "data.show(5)\n",
        "\n",
        "# Menangani missing values dengan mengisi nilai null dengan rata-rata kolom\n",
        "mean_total = data.select(mean(data['Total'])).first()[0]\n",
        "mean_quantity = data.select(mean(data['Quantity'])).first()[0]\n",
        "mean_unit_price = data.select(mean(data['Unit price'])).first()[0]\n",
        "\n",
        "data = data.fillna({'Total': mean_total, 'Quantity': mean_quantity, 'Unit price': mean_unit_price})\n",
        "\n",
        "# Pastikan kolom 'Total', 'Quantity', 'Unit price' memiliki tipe data numerik\n",
        "data = data.withColumn(\"Total\", col(\"Total\").cast(\"double\"))\n",
        "data = data.withColumn(\"Quantity\", col(\"Quantity\").cast(\"double\"))\n",
        "data = data.withColumn(\"Unit price\", col(\"Unit price\").cast(\"double\"))\n",
        "\n",
        "# Encode kolom 'Payment' menjadi label (kolom kategori menjadi numerik)\n",
        "indexer = StringIndexer(inputCol=\"Payment\", outputCol=\"label\")\n",
        "data = indexer.fit(data).transform(data)\n",
        "\n",
        "# Gabungkan kolom numerik menjadi satu kolom fitur\n",
        "assembler = VectorAssembler(\n",
        "    inputCols=[\"Total\", \"Quantity\", \"Unit price\"],  # Kolom numerik pada dataset\n",
        "    outputCol=\"features\"\n",
        ")\n",
        "\n",
        "# Transformasi data untuk membuat kolom 'features'\n",
        "data = assembler.transform(data)\n",
        "\n",
        "# Tampilkan data yang telah diproses\n",
        "data.select(\"features\", \"label\").show(5)\n",
        "\n",
        "# Membagi data menjadi training dan testing\n",
        "trainingData, testData = data.randomSplit([0.8, 0.2], seed=42)\n",
        "\n",
        "# Inisialisasi model Random Forest\n",
        "rf = RandomForestClassifier(featuresCol=\"features\", labelCol=\"label\", numTrees=50)\n",
        "\n",
        "# Cross-validation dengan grid parameter yang lebih luas\n",
        "paramGrid = (ParamGridBuilder()\n",
        "             .addGrid(rf.numTrees, [10, 50, 100, 200])  # Lebih banyak pohon\n",
        "             .addGrid(rf.maxDepth, [5, 10, 15, 20])    # Kedalaman lebih dalam\n",
        "             .addGrid(rf.minInstancesPerNode, [1, 2, 4])  # Menambahkan minInstancesPerNode\n",
        "             .build())\n",
        "\n",
        "# Cross-validator\n",
        "evaluator = MulticlassClassificationEvaluator(labelCol=\"label\", predictionCol=\"prediction\", metricName=\"accuracy\")\n",
        "crossval = CrossValidator(estimator=rf,\n",
        "                          estimatorParamMaps=paramGrid,\n",
        "                          evaluator=evaluator,\n",
        "                          numFolds=3)  # 3-Fold Cross Validation\n",
        "\n",
        "# Melatih model dengan cross-validation\n",
        "cvModel = crossval.fit(trainingData)\n",
        "\n",
        "# Model terbaik\n",
        "bestModel = cvModel.bestModel\n",
        "print(f\"Parameter Terbaik: {bestModel.extractParamMap()}\")\n",
        "\n",
        "# Evaluasi akurasi dari model terbaik\n",
        "predictions = bestModel.transform(testData)\n",
        "\n",
        "# Evaluasi akurasi\n",
        "accuracy = evaluator.evaluate(predictions)\n",
        "print(f\"Akurasi Setelah Tuning: {accuracy}\")\n",
        "\n",
        "# Evaluasi dengan F1-Score\n",
        "evaluator_f1 = MulticlassClassificationEvaluator(labelCol=\"label\", predictionCol=\"prediction\", metricName=\"f1\")\n",
        "f1_score = evaluator_f1.evaluate(predictions)\n",
        "print(f\"F1-Score Model: {f1_score}\")"
      ],
      "metadata": {
        "colab": {
          "base_uri": "https://localhost:8080/"
        },
        "id": "xCIaI-esrYGm",
        "outputId": "e04e1502-28cd-4ad5-b72b-7362e8fa11ae"
      },
      "id": "xCIaI-esrYGm",
      "execution_count": null,
      "outputs": [
        {
          "output_type": "stream",
          "name": "stdout",
          "text": [
            "+-----------+------+---------+-------------+------+--------------------+----------+--------+-------+--------+----------+-------------------+-----------+------+-----------------------+------------+------+---+-----+----+\n",
            "| Invoice ID|Branch|     City|Customer type|Gender|        Product line|Unit price|Quantity| Tax 5%|   Total|      Date|               Time|    Payment|  cogs|gross margin percentage|gross income|Rating|Day|Month|Year|\n",
            "+-----------+------+---------+-------------+------+--------------------+----------+--------+-------+--------+----------+-------------------+-----------+------+-----------------------+------------+------+---+-----+----+\n",
            "|750-67-8428|     A|   Yangon|       Member|Female|   Health and beauty|     74.69|       7|26.1415|548.9715|2019-01-05|2024-12-04 13:08:00|    Ewallet|522.83|            4.761904762|     26.1415|   9.1|  5|    1|2019|\n",
            "|226-31-3081|     C|Naypyitaw|       Normal|Female|Electronic access...|     15.28|       5|   3.82|   80.22|2019-03-08|2024-12-04 10:29:00|       Cash|  76.4|            4.761904762|        3.82|   9.6|  8|    3|2019|\n",
            "|631-41-3108|     A|   Yangon|       Normal|  Male|  Home and lifestyle|     46.33|       7|16.2155|340.5255|2019-03-03|2024-12-04 13:23:00|Credit card|324.31|            4.761904762|     16.2155|   7.4|  3|    3|2019|\n",
            "|123-19-1176|     A|   Yangon|       Member|  Male|   Health and beauty|     58.22|       8| 23.288| 489.048|2019-01-27|2024-12-04 20:33:00|    Ewallet|465.76|            4.761904762|      23.288|   8.4| 27|    1|2019|\n",
            "|373-73-7910|     A|   Yangon|       Normal|  Male|   Sports and travel|     86.31|       7|30.2085|634.3785|2019-02-08|2024-12-04 10:37:00|    Ewallet|604.17|            4.761904762|     30.2085|   5.3|  8|    2|2019|\n",
            "+-----------+------+---------+-------------+------+--------------------+----------+--------+-------+--------+----------+-------------------+-----------+------+-----------------------+------------+------+---+-----+----+\n",
            "only showing top 5 rows\n",
            "\n",
            "+--------------------+-----+\n",
            "|            features|label|\n",
            "+--------------------+-----+\n",
            "|[548.9715,7.0,74.69]|  0.0|\n",
            "|   [80.22,5.0,15.28]|  1.0|\n",
            "|[340.5255,7.0,46.33]|  2.0|\n",
            "| [489.048,8.0,58.22]|  0.0|\n",
            "|[634.3785,7.0,86.31]|  0.0|\n",
            "+--------------------+-----+\n",
            "only showing top 5 rows\n",
            "\n",
            "Parameter Terbaik: {Param(parent='RandomForestClassifier_473da1a18e07', name='bootstrap', doc='Whether bootstrap samples are used when building trees.'): True, Param(parent='RandomForestClassifier_473da1a18e07', name='cacheNodeIds', doc='If false, the algorithm will pass trees to executors to match instances with nodes. If true, the algorithm will cache node IDs for each instance. Caching can speed up training of deeper trees. Users can set how often should the cache be checkpointed or disable it by setting checkpointInterval.'): False, Param(parent='RandomForestClassifier_473da1a18e07', name='checkpointInterval', doc='set checkpoint interval (>= 1) or disable checkpoint (-1). E.g. 10 means that the cache will get checkpointed every 10 iterations. Note: this setting will be ignored if the checkpoint directory is not set in the SparkContext.'): 10, Param(parent='RandomForestClassifier_473da1a18e07', name='featureSubsetStrategy', doc=\"The number of features to consider for splits at each tree node. Supported options: 'auto' (choose automatically for task: If numTrees == 1, set to 'all'. If numTrees > 1 (forest), set to 'sqrt' for classification and to 'onethird' for regression), 'all' (use all features), 'onethird' (use 1/3 of the features), 'sqrt' (use sqrt(number of features)), 'log2' (use log2(number of features)), 'n' (when n is in the range (0, 1.0], use n * number of features. When n is in the range (1, number of features), use n features). default = 'auto'\"): 'auto', Param(parent='RandomForestClassifier_473da1a18e07', name='featuresCol', doc='features column name.'): 'features', Param(parent='RandomForestClassifier_473da1a18e07', name='impurity', doc='Criterion used for information gain calculation (case-insensitive). Supported options: entropy, gini'): 'gini', Param(parent='RandomForestClassifier_473da1a18e07', name='labelCol', doc='label column name.'): 'label', Param(parent='RandomForestClassifier_473da1a18e07', name='leafCol', doc='Leaf indices column name. Predicted leaf index of each instance in each tree by preorder.'): '', Param(parent='RandomForestClassifier_473da1a18e07', name='maxBins', doc='Max number of bins for discretizing continuous features.  Must be >=2 and >= number of categories for any categorical feature.'): 32, Param(parent='RandomForestClassifier_473da1a18e07', name='maxDepth', doc='Maximum depth of the tree. (>= 0) E.g., depth 0 means 1 leaf node; depth 1 means 1 internal node + 2 leaf nodes. Must be in range [0, 30].'): 5, Param(parent='RandomForestClassifier_473da1a18e07', name='maxMemoryInMB', doc='Maximum memory in MB allocated to histogram aggregation. If too small, then 1 node will be split per iteration, and its aggregates may exceed this size.'): 256, Param(parent='RandomForestClassifier_473da1a18e07', name='minInfoGain', doc='Minimum information gain for a split to be considered at a tree node.'): 0.0, Param(parent='RandomForestClassifier_473da1a18e07', name='minInstancesPerNode', doc='Minimum number of instances each child must have after split. If a split causes the left or right child to have fewer than minInstancesPerNode, the split will be discarded as invalid. Should be >= 1.'): 2, Param(parent='RandomForestClassifier_473da1a18e07', name='minWeightFractionPerNode', doc='Minimum fraction of the weighted sample count that each child must have after split. If a split causes the fraction of the total weight in the left or right child to be less than minWeightFractionPerNode, the split will be discarded as invalid. Should be in interval [0.0, 0.5).'): 0.0, Param(parent='RandomForestClassifier_473da1a18e07', name='numTrees', doc='Number of trees to train (>= 1).'): 200, Param(parent='RandomForestClassifier_473da1a18e07', name='predictionCol', doc='prediction column name.'): 'prediction', Param(parent='RandomForestClassifier_473da1a18e07', name='probabilityCol', doc='Column name for predicted class conditional probabilities. Note: Not all models output well-calibrated probability estimates! These probabilities should be treated as confidences, not precise probabilities.'): 'probability', Param(parent='RandomForestClassifier_473da1a18e07', name='rawPredictionCol', doc='raw prediction (a.k.a. confidence) column name.'): 'rawPrediction', Param(parent='RandomForestClassifier_473da1a18e07', name='seed', doc='random seed.'): 7605915269233026392, Param(parent='RandomForestClassifier_473da1a18e07', name='subsamplingRate', doc='Fraction of the training data used for learning each decision tree, in range (0, 1].'): 1.0}\n",
            "Akurasi Setelah Tuning: 0.29012345679012347\n",
            "F1-Score Model: 0.2793128403092349\n"
          ]
        }
      ]
    }
  ],
  "metadata": {
    "colab": {
      "provenance": []
    },
    "kernelspec": {
      "display_name": "Python 3",
      "name": "python3"
    },
    "language_info": {
      "name": "python"
    }
  },
  "nbformat": 4,
  "nbformat_minor": 5
}